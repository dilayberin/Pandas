{
 "cells": [
  {
   "cell_type": "code",
   "execution_count": 1,
   "id": "7b31e704",
   "metadata": {},
   "outputs": [],
   "source": [
    "import numpy as np\n",
    "import pandas as pd"
   ]
  },
  {
   "cell_type": "markdown",
   "id": "dd01ce07",
   "metadata": {},
   "source": [
    "### Series/Seriler"
   ]
  },
  {
   "cell_type": "code",
   "execution_count": 2,
   "id": "f1a66fe6",
   "metadata": {},
   "outputs": [],
   "source": [
    "benimSözlüğüm={\"Dilay\":19 , \"Elif\":21 , \"Burak\": 30}"
   ]
  },
  {
   "cell_type": "code",
   "execution_count": 4,
   "id": "10c7433b",
   "metadata": {},
   "outputs": [
    {
     "data": {
      "text/plain": [
       "Dilay    19\n",
       "Elif     21\n",
       "Burak    30\n",
       "dtype: int64"
      ]
     },
     "execution_count": 4,
     "metadata": {},
     "output_type": "execute_result"
    }
   ],
   "source": [
    "pd.Series(benimSözlüğüm)"
   ]
  },
  {
   "cell_type": "code",
   "execution_count": 6,
   "id": "08b6677d",
   "metadata": {},
   "outputs": [],
   "source": [
    "benimYaslarim=[19,21,30]\n",
    "benimİsimlerim=[\"Dilay\",\"Elif\",\"Burak\"]"
   ]
  },
  {
   "cell_type": "code",
   "execution_count": 8,
   "id": "a963e746",
   "metadata": {},
   "outputs": [
    {
     "data": {
      "text/plain": [
       "Dilay    19\n",
       "Elif     21\n",
       "Burak    30\n",
       "dtype: int64"
      ]
     },
     "execution_count": 8,
     "metadata": {},
     "output_type": "execute_result"
    }
   ],
   "source": [
    "pd.Series(benimYaslarim,benimİsimlerim)"
   ]
  },
  {
   "cell_type": "code",
   "execution_count": 9,
   "id": "b2ab43e1",
   "metadata": {},
   "outputs": [
    {
     "data": {
      "text/plain": [
       "Dilay    19\n",
       "Elif     21\n",
       "Burak    30\n",
       "dtype: int64"
      ]
     },
     "execution_count": 9,
     "metadata": {},
     "output_type": "execute_result"
    }
   ],
   "source": [
    "pd.Series(data=benimYaslarim,index=benimİsimlerim)"
   ]
  },
  {
   "cell_type": "code",
   "execution_count": 10,
   "id": "968c37d7",
   "metadata": {},
   "outputs": [],
   "source": [
    "numpyDizisi=np.array([19,21,30])"
   ]
  },
  {
   "cell_type": "code",
   "execution_count": 11,
   "id": "9779186b",
   "metadata": {},
   "outputs": [
    {
     "data": {
      "text/plain": [
       "array([19, 21, 30])"
      ]
     },
     "execution_count": 11,
     "metadata": {},
     "output_type": "execute_result"
    }
   ],
   "source": [
    "numpyDizisi"
   ]
  },
  {
   "cell_type": "code",
   "execution_count": 12,
   "id": "f4059155",
   "metadata": {},
   "outputs": [
    {
     "data": {
      "text/plain": [
       "0    19\n",
       "1    21\n",
       "2    30\n",
       "dtype: int32"
      ]
     },
     "execution_count": 12,
     "metadata": {},
     "output_type": "execute_result"
    }
   ],
   "source": [
    "pd.Series(numpyDizisi)"
   ]
  },
  {
   "cell_type": "code",
   "execution_count": 14,
   "id": "37276401",
   "metadata": {},
   "outputs": [
    {
     "data": {
      "text/plain": [
       "Dilay    19\n",
       "Elif     21\n",
       "Burak    30\n",
       "dtype: int32"
      ]
     },
     "execution_count": 14,
     "metadata": {},
     "output_type": "execute_result"
    }
   ],
   "source": [
    "pd.Series(numpyDizisi,benimİsimlerim)"
   ]
  },
  {
   "cell_type": "code",
   "execution_count": 15,
   "id": "06e67428",
   "metadata": {},
   "outputs": [
    {
     "data": {
      "text/plain": [
       "1     Atıl\n",
       "2    Atlas\n",
       "3    Osman\n",
       "dtype: object"
      ]
     },
     "execution_count": 15,
     "metadata": {},
     "output_type": "execute_result"
    }
   ],
   "source": [
    "pd.Series([\"Atıl\",\"Atlas\",\"Osman\"],[1,2,3])"
   ]
  },
  {
   "cell_type": "code",
   "execution_count": 16,
   "id": "0d4118ee",
   "metadata": {},
   "outputs": [],
   "source": [
    "yarismaSonucu1= pd.Series([10,5,1],[\"Atıl\",\"Atlas\",\"Osman\"])"
   ]
  },
  {
   "cell_type": "code",
   "execution_count": 17,
   "id": "4d5fbb1a",
   "metadata": {},
   "outputs": [
    {
     "data": {
      "text/plain": [
       "Atıl     10\n",
       "Atlas     5\n",
       "Osman     1\n",
       "dtype: int64"
      ]
     },
     "execution_count": 17,
     "metadata": {},
     "output_type": "execute_result"
    }
   ],
   "source": [
    "yarismaSonucu1"
   ]
  },
  {
   "cell_type": "code",
   "execution_count": 18,
   "id": "f289e80f",
   "metadata": {},
   "outputs": [],
   "source": [
    "yarismaSonucu2= pd.Series([20,10,8],[\"Atıl\",\"Atlas\",\"Osman\"])"
   ]
  },
  {
   "cell_type": "code",
   "execution_count": 19,
   "id": "f6ae59b9",
   "metadata": {},
   "outputs": [
    {
     "data": {
      "text/plain": [
       "Atıl     20\n",
       "Atlas    10\n",
       "Osman     8\n",
       "dtype: int64"
      ]
     },
     "execution_count": 19,
     "metadata": {},
     "output_type": "execute_result"
    }
   ],
   "source": [
    "yarismaSonucu2"
   ]
  },
  {
   "cell_type": "code",
   "execution_count": 20,
   "id": "47849c24",
   "metadata": {},
   "outputs": [
    {
     "data": {
      "text/plain": [
       "10"
      ]
     },
     "execution_count": 20,
     "metadata": {},
     "output_type": "execute_result"
    }
   ],
   "source": [
    "yarismaSonucu2[\"Atlas\"]"
   ]
  },
  {
   "cell_type": "code",
   "execution_count": 21,
   "id": "3bac7186",
   "metadata": {},
   "outputs": [],
   "source": [
    "sonSonuc=yarismaSonucu1+yarismaSonucu2"
   ]
  },
  {
   "cell_type": "code",
   "execution_count": 22,
   "id": "812a90f1",
   "metadata": {},
   "outputs": [
    {
     "data": {
      "text/plain": [
       "Atıl     30\n",
       "Atlas    15\n",
       "Osman     9\n",
       "dtype: int64"
      ]
     },
     "execution_count": 22,
     "metadata": {},
     "output_type": "execute_result"
    }
   ],
   "source": [
    "sonSonuc"
   ]
  },
  {
   "cell_type": "code",
   "execution_count": 26,
   "id": "c2f3cecb",
   "metadata": {},
   "outputs": [],
   "source": [
    "farkliSeries1=pd.Series([20,30,40,50],[\"a\",\"b\",\"c\",\"d\"])"
   ]
  },
  {
   "cell_type": "code",
   "execution_count": 27,
   "id": "73d92976",
   "metadata": {},
   "outputs": [],
   "source": [
    "farkliSeries2=pd.Series([10,5,3,1],[\"a\",\"c\",\"f\",\"g\"])"
   ]
  },
  {
   "cell_type": "code",
   "execution_count": 28,
   "id": "32e93f9c",
   "metadata": {},
   "outputs": [
    {
     "data": {
      "text/plain": [
       "a    20\n",
       "b    30\n",
       "c    40\n",
       "d    50\n",
       "dtype: int64"
      ]
     },
     "execution_count": 28,
     "metadata": {},
     "output_type": "execute_result"
    }
   ],
   "source": [
    "farkliSeries1"
   ]
  },
  {
   "cell_type": "code",
   "execution_count": 29,
   "id": "bc9c5343",
   "metadata": {},
   "outputs": [
    {
     "data": {
      "text/plain": [
       "a    10\n",
       "c     5\n",
       "f     3\n",
       "g     1\n",
       "dtype: int64"
      ]
     },
     "execution_count": 29,
     "metadata": {},
     "output_type": "execute_result"
    }
   ],
   "source": [
    "farkliSeries2"
   ]
  },
  {
   "cell_type": "code",
   "execution_count": 30,
   "id": "3702d424",
   "metadata": {},
   "outputs": [
    {
     "data": {
      "text/plain": [
       "a    30.0\n",
       "b     NaN\n",
       "c    45.0\n",
       "d     NaN\n",
       "f     NaN\n",
       "g     NaN\n",
       "dtype: float64"
      ]
     },
     "execution_count": 30,
     "metadata": {},
     "output_type": "execute_result"
    }
   ],
   "source": [
    "farkliSeries1+farkliSeries2"
   ]
  }
 ],
 "metadata": {
  "kernelspec": {
   "display_name": "Python 3 (ipykernel)",
   "language": "python",
   "name": "python3"
  },
  "language_info": {
   "codemirror_mode": {
    "name": "ipython",
    "version": 3
   },
   "file_extension": ".py",
   "mimetype": "text/x-python",
   "name": "python",
   "nbconvert_exporter": "python",
   "pygments_lexer": "ipython3",
   "version": "3.10.9"
  }
 },
 "nbformat": 4,
 "nbformat_minor": 5
}
