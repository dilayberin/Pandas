{
 "cells": [
  {
   "cell_type": "code",
   "execution_count": 1,
   "id": "9b59d11e",
   "metadata": {},
   "outputs": [],
   "source": [
    "import pandas as pd\n",
    "import numpy as np"
   ]
  },
  {
   "cell_type": "code",
   "execution_count": 2,
   "id": "a88ec008",
   "metadata": {},
   "outputs": [],
   "source": [
    "data=np.random.randn(4,3)"
   ]
  },
  {
   "cell_type": "code",
   "execution_count": 3,
   "id": "28a184d3",
   "metadata": {},
   "outputs": [
    {
     "data": {
      "text/plain": [
       "array([[ 0.5669964 ,  0.69920041,  1.4056711 ],\n",
       "       [ 0.04446867, -0.15803728,  1.24676786],\n",
       "       [-1.55724765, -0.1680203 , -0.3043531 ],\n",
       "       [-0.31967933,  0.71885485, -2.02528753]])"
      ]
     },
     "execution_count": 3,
     "metadata": {},
     "output_type": "execute_result"
    }
   ],
   "source": [
    "data"
   ]
  },
  {
   "cell_type": "code",
   "execution_count": 4,
   "id": "b813459b",
   "metadata": {},
   "outputs": [],
   "source": [
    "dataFrame= pd.DataFrame(data)"
   ]
  },
  {
   "cell_type": "code",
   "execution_count": 5,
   "id": "d224aa89",
   "metadata": {},
   "outputs": [
    {
     "data": {
      "text/html": [
       "<div>\n",
       "<style scoped>\n",
       "    .dataframe tbody tr th:only-of-type {\n",
       "        vertical-align: middle;\n",
       "    }\n",
       "\n",
       "    .dataframe tbody tr th {\n",
       "        vertical-align: top;\n",
       "    }\n",
       "\n",
       "    .dataframe thead th {\n",
       "        text-align: right;\n",
       "    }\n",
       "</style>\n",
       "<table border=\"1\" class=\"dataframe\">\n",
       "  <thead>\n",
       "    <tr style=\"text-align: right;\">\n",
       "      <th></th>\n",
       "      <th>0</th>\n",
       "      <th>1</th>\n",
       "      <th>2</th>\n",
       "    </tr>\n",
       "  </thead>\n",
       "  <tbody>\n",
       "    <tr>\n",
       "      <th>0</th>\n",
       "      <td>0.566996</td>\n",
       "      <td>0.699200</td>\n",
       "      <td>1.405671</td>\n",
       "    </tr>\n",
       "    <tr>\n",
       "      <th>1</th>\n",
       "      <td>0.044469</td>\n",
       "      <td>-0.158037</td>\n",
       "      <td>1.246768</td>\n",
       "    </tr>\n",
       "    <tr>\n",
       "      <th>2</th>\n",
       "      <td>-1.557248</td>\n",
       "      <td>-0.168020</td>\n",
       "      <td>-0.304353</td>\n",
       "    </tr>\n",
       "    <tr>\n",
       "      <th>3</th>\n",
       "      <td>-0.319679</td>\n",
       "      <td>0.718855</td>\n",
       "      <td>-2.025288</td>\n",
       "    </tr>\n",
       "  </tbody>\n",
       "</table>\n",
       "</div>"
      ],
      "text/plain": [
       "          0         1         2\n",
       "0  0.566996  0.699200  1.405671\n",
       "1  0.044469 -0.158037  1.246768\n",
       "2 -1.557248 -0.168020 -0.304353\n",
       "3 -0.319679  0.718855 -2.025288"
      ]
     },
     "execution_count": 5,
     "metadata": {},
     "output_type": "execute_result"
    }
   ],
   "source": [
    "dataFrame"
   ]
  },
  {
   "cell_type": "code",
   "execution_count": 6,
   "id": "e2ec1fa7",
   "metadata": {},
   "outputs": [
    {
     "data": {
      "text/plain": [
       "0    0.566996\n",
       "1    0.044469\n",
       "2   -1.557248\n",
       "3   -0.319679\n",
       "Name: 0, dtype: float64"
      ]
     },
     "execution_count": 6,
     "metadata": {},
     "output_type": "execute_result"
    }
   ],
   "source": [
    "dataFrame[0]"
   ]
  },
  {
   "cell_type": "code",
   "execution_count": 7,
   "id": "d5a27157",
   "metadata": {},
   "outputs": [],
   "source": [
    "YeniDataFrame=pd.DataFrame(data,index=[\"dilay\",\"berin\",\"akkan\",\"elif\"],columns=[\"maas\",\"yas\",\"calışma saati\"])"
   ]
  },
  {
   "cell_type": "code",
   "execution_count": 8,
   "id": "488ccca3",
   "metadata": {},
   "outputs": [
    {
     "data": {
      "text/html": [
       "<div>\n",
       "<style scoped>\n",
       "    .dataframe tbody tr th:only-of-type {\n",
       "        vertical-align: middle;\n",
       "    }\n",
       "\n",
       "    .dataframe tbody tr th {\n",
       "        vertical-align: top;\n",
       "    }\n",
       "\n",
       "    .dataframe thead th {\n",
       "        text-align: right;\n",
       "    }\n",
       "</style>\n",
       "<table border=\"1\" class=\"dataframe\">\n",
       "  <thead>\n",
       "    <tr style=\"text-align: right;\">\n",
       "      <th></th>\n",
       "      <th>maas</th>\n",
       "      <th>yas</th>\n",
       "      <th>calışma saati</th>\n",
       "    </tr>\n",
       "  </thead>\n",
       "  <tbody>\n",
       "    <tr>\n",
       "      <th>dilay</th>\n",
       "      <td>0.566996</td>\n",
       "      <td>0.699200</td>\n",
       "      <td>1.405671</td>\n",
       "    </tr>\n",
       "    <tr>\n",
       "      <th>berin</th>\n",
       "      <td>0.044469</td>\n",
       "      <td>-0.158037</td>\n",
       "      <td>1.246768</td>\n",
       "    </tr>\n",
       "    <tr>\n",
       "      <th>akkan</th>\n",
       "      <td>-1.557248</td>\n",
       "      <td>-0.168020</td>\n",
       "      <td>-0.304353</td>\n",
       "    </tr>\n",
       "    <tr>\n",
       "      <th>elif</th>\n",
       "      <td>-0.319679</td>\n",
       "      <td>0.718855</td>\n",
       "      <td>-2.025288</td>\n",
       "    </tr>\n",
       "  </tbody>\n",
       "</table>\n",
       "</div>"
      ],
      "text/plain": [
       "           maas       yas  calışma saati\n",
       "dilay  0.566996  0.699200       1.405671\n",
       "berin  0.044469 -0.158037       1.246768\n",
       "akkan -1.557248 -0.168020      -0.304353\n",
       "elif  -0.319679  0.718855      -2.025288"
      ]
     },
     "execution_count": 8,
     "metadata": {},
     "output_type": "execute_result"
    }
   ],
   "source": [
    "YeniDataFrame"
   ]
  },
  {
   "cell_type": "code",
   "execution_count": 9,
   "id": "2c93c0fa",
   "metadata": {},
   "outputs": [
    {
     "data": {
      "text/plain": [
       "dilay    0.699200\n",
       "berin   -0.158037\n",
       "akkan   -0.168020\n",
       "elif     0.718855\n",
       "Name: yas, dtype: float64"
      ]
     },
     "execution_count": 9,
     "metadata": {},
     "output_type": "execute_result"
    }
   ],
   "source": [
    "YeniDataFrame[\"yas\"]"
   ]
  },
  {
   "cell_type": "code",
   "execution_count": 10,
   "id": "a408d3b0",
   "metadata": {},
   "outputs": [
    {
     "data": {
      "text/html": [
       "<div>\n",
       "<style scoped>\n",
       "    .dataframe tbody tr th:only-of-type {\n",
       "        vertical-align: middle;\n",
       "    }\n",
       "\n",
       "    .dataframe tbody tr th {\n",
       "        vertical-align: top;\n",
       "    }\n",
       "\n",
       "    .dataframe thead th {\n",
       "        text-align: right;\n",
       "    }\n",
       "</style>\n",
       "<table border=\"1\" class=\"dataframe\">\n",
       "  <thead>\n",
       "    <tr style=\"text-align: right;\">\n",
       "      <th></th>\n",
       "      <th>maas</th>\n",
       "      <th>yas</th>\n",
       "    </tr>\n",
       "  </thead>\n",
       "  <tbody>\n",
       "    <tr>\n",
       "      <th>dilay</th>\n",
       "      <td>0.566996</td>\n",
       "      <td>0.699200</td>\n",
       "    </tr>\n",
       "    <tr>\n",
       "      <th>berin</th>\n",
       "      <td>0.044469</td>\n",
       "      <td>-0.158037</td>\n",
       "    </tr>\n",
       "    <tr>\n",
       "      <th>akkan</th>\n",
       "      <td>-1.557248</td>\n",
       "      <td>-0.168020</td>\n",
       "    </tr>\n",
       "    <tr>\n",
       "      <th>elif</th>\n",
       "      <td>-0.319679</td>\n",
       "      <td>0.718855</td>\n",
       "    </tr>\n",
       "  </tbody>\n",
       "</table>\n",
       "</div>"
      ],
      "text/plain": [
       "           maas       yas\n",
       "dilay  0.566996  0.699200\n",
       "berin  0.044469 -0.158037\n",
       "akkan -1.557248 -0.168020\n",
       "elif  -0.319679  0.718855"
      ]
     },
     "execution_count": 10,
     "metadata": {},
     "output_type": "execute_result"
    }
   ],
   "source": [
    "YeniDataFrame[[\"maas\",\"yas\"]]"
   ]
  },
  {
   "cell_type": "code",
   "execution_count": 11,
   "id": "59ae8b36",
   "metadata": {},
   "outputs": [
    {
     "data": {
      "text/plain": [
       "maas             0.566996\n",
       "yas              0.699200\n",
       "calışma saati    1.405671\n",
       "Name: dilay, dtype: float64"
      ]
     },
     "execution_count": 11,
     "metadata": {},
     "output_type": "execute_result"
    }
   ],
   "source": [
    "YeniDataFrame.loc[\"dilay\"]"
   ]
  },
  {
   "cell_type": "code",
   "execution_count": 12,
   "id": "19b9b09c",
   "metadata": {},
   "outputs": [
    {
     "data": {
      "text/plain": [
       "maas             0.044469\n",
       "yas             -0.158037\n",
       "calışma saati    1.246768\n",
       "Name: berin, dtype: float64"
      ]
     },
     "execution_count": 12,
     "metadata": {},
     "output_type": "execute_result"
    }
   ],
   "source": [
    "YeniDataFrame.iloc[1]"
   ]
  },
  {
   "cell_type": "code",
   "execution_count": 13,
   "id": "1453bdee",
   "metadata": {},
   "outputs": [
    {
     "data": {
      "text/html": [
       "<div>\n",
       "<style scoped>\n",
       "    .dataframe tbody tr th:only-of-type {\n",
       "        vertical-align: middle;\n",
       "    }\n",
       "\n",
       "    .dataframe tbody tr th {\n",
       "        vertical-align: top;\n",
       "    }\n",
       "\n",
       "    .dataframe thead th {\n",
       "        text-align: right;\n",
       "    }\n",
       "</style>\n",
       "<table border=\"1\" class=\"dataframe\">\n",
       "  <thead>\n",
       "    <tr style=\"text-align: right;\">\n",
       "      <th></th>\n",
       "      <th>maas</th>\n",
       "      <th>yas</th>\n",
       "      <th>calışma saati</th>\n",
       "    </tr>\n",
       "  </thead>\n",
       "  <tbody>\n",
       "    <tr>\n",
       "      <th>dilay</th>\n",
       "      <td>0.566996</td>\n",
       "      <td>0.699200</td>\n",
       "      <td>1.405671</td>\n",
       "    </tr>\n",
       "    <tr>\n",
       "      <th>berin</th>\n",
       "      <td>0.044469</td>\n",
       "      <td>-0.158037</td>\n",
       "      <td>1.246768</td>\n",
       "    </tr>\n",
       "    <tr>\n",
       "      <th>akkan</th>\n",
       "      <td>-1.557248</td>\n",
       "      <td>-0.168020</td>\n",
       "      <td>-0.304353</td>\n",
       "    </tr>\n",
       "    <tr>\n",
       "      <th>elif</th>\n",
       "      <td>-0.319679</td>\n",
       "      <td>0.718855</td>\n",
       "      <td>-2.025288</td>\n",
       "    </tr>\n",
       "  </tbody>\n",
       "</table>\n",
       "</div>"
      ],
      "text/plain": [
       "           maas       yas  calışma saati\n",
       "dilay  0.566996  0.699200       1.405671\n",
       "berin  0.044469 -0.158037       1.246768\n",
       "akkan -1.557248 -0.168020      -0.304353\n",
       "elif  -0.319679  0.718855      -2.025288"
      ]
     },
     "execution_count": 13,
     "metadata": {},
     "output_type": "execute_result"
    }
   ],
   "source": [
    "YeniDataFrame"
   ]
  },
  {
   "cell_type": "code",
   "execution_count": 14,
   "id": "744ede00",
   "metadata": {},
   "outputs": [],
   "source": [
    "YeniDataFrame[\"emeklilik yaşı\"]=YeniDataFrame[\"yas\"]+YeniDataFrame[\"yas\"]"
   ]
  },
  {
   "cell_type": "code",
   "execution_count": 15,
   "id": "ae25aa57",
   "metadata": {},
   "outputs": [
    {
     "data": {
      "text/html": [
       "<div>\n",
       "<style scoped>\n",
       "    .dataframe tbody tr th:only-of-type {\n",
       "        vertical-align: middle;\n",
       "    }\n",
       "\n",
       "    .dataframe tbody tr th {\n",
       "        vertical-align: top;\n",
       "    }\n",
       "\n",
       "    .dataframe thead th {\n",
       "        text-align: right;\n",
       "    }\n",
       "</style>\n",
       "<table border=\"1\" class=\"dataframe\">\n",
       "  <thead>\n",
       "    <tr style=\"text-align: right;\">\n",
       "      <th></th>\n",
       "      <th>maas</th>\n",
       "      <th>yas</th>\n",
       "      <th>calışma saati</th>\n",
       "      <th>emeklilik yaşı</th>\n",
       "    </tr>\n",
       "  </thead>\n",
       "  <tbody>\n",
       "    <tr>\n",
       "      <th>dilay</th>\n",
       "      <td>0.566996</td>\n",
       "      <td>0.699200</td>\n",
       "      <td>1.405671</td>\n",
       "      <td>1.398401</td>\n",
       "    </tr>\n",
       "    <tr>\n",
       "      <th>berin</th>\n",
       "      <td>0.044469</td>\n",
       "      <td>-0.158037</td>\n",
       "      <td>1.246768</td>\n",
       "      <td>-0.316075</td>\n",
       "    </tr>\n",
       "    <tr>\n",
       "      <th>akkan</th>\n",
       "      <td>-1.557248</td>\n",
       "      <td>-0.168020</td>\n",
       "      <td>-0.304353</td>\n",
       "      <td>-0.336041</td>\n",
       "    </tr>\n",
       "    <tr>\n",
       "      <th>elif</th>\n",
       "      <td>-0.319679</td>\n",
       "      <td>0.718855</td>\n",
       "      <td>-2.025288</td>\n",
       "      <td>1.437710</td>\n",
       "    </tr>\n",
       "  </tbody>\n",
       "</table>\n",
       "</div>"
      ],
      "text/plain": [
       "           maas       yas  calışma saati  emeklilik yaşı\n",
       "dilay  0.566996  0.699200       1.405671        1.398401\n",
       "berin  0.044469 -0.158037       1.246768       -0.316075\n",
       "akkan -1.557248 -0.168020      -0.304353       -0.336041\n",
       "elif  -0.319679  0.718855      -2.025288        1.437710"
      ]
     },
     "execution_count": 15,
     "metadata": {},
     "output_type": "execute_result"
    }
   ],
   "source": [
    "YeniDataFrame"
   ]
  },
  {
   "cell_type": "code",
   "execution_count": 16,
   "id": "c23cb216",
   "metadata": {},
   "outputs": [
    {
     "data": {
      "text/html": [
       "<div>\n",
       "<style scoped>\n",
       "    .dataframe tbody tr th:only-of-type {\n",
       "        vertical-align: middle;\n",
       "    }\n",
       "\n",
       "    .dataframe tbody tr th {\n",
       "        vertical-align: top;\n",
       "    }\n",
       "\n",
       "    .dataframe thead th {\n",
       "        text-align: right;\n",
       "    }\n",
       "</style>\n",
       "<table border=\"1\" class=\"dataframe\">\n",
       "  <thead>\n",
       "    <tr style=\"text-align: right;\">\n",
       "      <th></th>\n",
       "      <th>maas</th>\n",
       "      <th>yas</th>\n",
       "      <th>calışma saati</th>\n",
       "    </tr>\n",
       "  </thead>\n",
       "  <tbody>\n",
       "    <tr>\n",
       "      <th>dilay</th>\n",
       "      <td>0.566996</td>\n",
       "      <td>0.699200</td>\n",
       "      <td>1.405671</td>\n",
       "    </tr>\n",
       "    <tr>\n",
       "      <th>berin</th>\n",
       "      <td>0.044469</td>\n",
       "      <td>-0.158037</td>\n",
       "      <td>1.246768</td>\n",
       "    </tr>\n",
       "    <tr>\n",
       "      <th>akkan</th>\n",
       "      <td>-1.557248</td>\n",
       "      <td>-0.168020</td>\n",
       "      <td>-0.304353</td>\n",
       "    </tr>\n",
       "    <tr>\n",
       "      <th>elif</th>\n",
       "      <td>-0.319679</td>\n",
       "      <td>0.718855</td>\n",
       "      <td>-2.025288</td>\n",
       "    </tr>\n",
       "  </tbody>\n",
       "</table>\n",
       "</div>"
      ],
      "text/plain": [
       "           maas       yas  calışma saati\n",
       "dilay  0.566996  0.699200       1.405671\n",
       "berin  0.044469 -0.158037       1.246768\n",
       "akkan -1.557248 -0.168020      -0.304353\n",
       "elif  -0.319679  0.718855      -2.025288"
      ]
     },
     "execution_count": 16,
     "metadata": {},
     "output_type": "execute_result"
    }
   ],
   "source": [
    "YeniDataFrame.drop(\"emeklilik yaşı\",axis=1)"
   ]
  },
  {
   "cell_type": "code",
   "execution_count": 17,
   "id": "e1e53203",
   "metadata": {},
   "outputs": [
    {
     "data": {
      "text/html": [
       "<div>\n",
       "<style scoped>\n",
       "    .dataframe tbody tr th:only-of-type {\n",
       "        vertical-align: middle;\n",
       "    }\n",
       "\n",
       "    .dataframe tbody tr th {\n",
       "        vertical-align: top;\n",
       "    }\n",
       "\n",
       "    .dataframe thead th {\n",
       "        text-align: right;\n",
       "    }\n",
       "</style>\n",
       "<table border=\"1\" class=\"dataframe\">\n",
       "  <thead>\n",
       "    <tr style=\"text-align: right;\">\n",
       "      <th></th>\n",
       "      <th>maas</th>\n",
       "      <th>yas</th>\n",
       "      <th>calışma saati</th>\n",
       "      <th>emeklilik yaşı</th>\n",
       "    </tr>\n",
       "  </thead>\n",
       "  <tbody>\n",
       "    <tr>\n",
       "      <th>dilay</th>\n",
       "      <td>0.566996</td>\n",
       "      <td>0.699200</td>\n",
       "      <td>1.405671</td>\n",
       "      <td>1.398401</td>\n",
       "    </tr>\n",
       "    <tr>\n",
       "      <th>berin</th>\n",
       "      <td>0.044469</td>\n",
       "      <td>-0.158037</td>\n",
       "      <td>1.246768</td>\n",
       "      <td>-0.316075</td>\n",
       "    </tr>\n",
       "    <tr>\n",
       "      <th>akkan</th>\n",
       "      <td>-1.557248</td>\n",
       "      <td>-0.168020</td>\n",
       "      <td>-0.304353</td>\n",
       "      <td>-0.336041</td>\n",
       "    </tr>\n",
       "    <tr>\n",
       "      <th>elif</th>\n",
       "      <td>-0.319679</td>\n",
       "      <td>0.718855</td>\n",
       "      <td>-2.025288</td>\n",
       "      <td>1.437710</td>\n",
       "    </tr>\n",
       "  </tbody>\n",
       "</table>\n",
       "</div>"
      ],
      "text/plain": [
       "           maas       yas  calışma saati  emeklilik yaşı\n",
       "dilay  0.566996  0.699200       1.405671        1.398401\n",
       "berin  0.044469 -0.158037       1.246768       -0.316075\n",
       "akkan -1.557248 -0.168020      -0.304353       -0.336041\n",
       "elif  -0.319679  0.718855      -2.025288        1.437710"
      ]
     },
     "execution_count": 17,
     "metadata": {},
     "output_type": "execute_result"
    }
   ],
   "source": [
    "YeniDataFrame"
   ]
  },
  {
   "cell_type": "code",
   "execution_count": 18,
   "id": "66fe530b",
   "metadata": {},
   "outputs": [],
   "source": [
    "YeniDataFrame.drop(\"emeklilik yaşı\",axis=1,inplace=True)"
   ]
  },
  {
   "cell_type": "code",
   "execution_count": 19,
   "id": "fb3e48fd",
   "metadata": {},
   "outputs": [
    {
     "data": {
      "text/html": [
       "<div>\n",
       "<style scoped>\n",
       "    .dataframe tbody tr th:only-of-type {\n",
       "        vertical-align: middle;\n",
       "    }\n",
       "\n",
       "    .dataframe tbody tr th {\n",
       "        vertical-align: top;\n",
       "    }\n",
       "\n",
       "    .dataframe thead th {\n",
       "        text-align: right;\n",
       "    }\n",
       "</style>\n",
       "<table border=\"1\" class=\"dataframe\">\n",
       "  <thead>\n",
       "    <tr style=\"text-align: right;\">\n",
       "      <th></th>\n",
       "      <th>maas</th>\n",
       "      <th>yas</th>\n",
       "      <th>calışma saati</th>\n",
       "    </tr>\n",
       "  </thead>\n",
       "  <tbody>\n",
       "    <tr>\n",
       "      <th>dilay</th>\n",
       "      <td>0.566996</td>\n",
       "      <td>0.699200</td>\n",
       "      <td>1.405671</td>\n",
       "    </tr>\n",
       "    <tr>\n",
       "      <th>berin</th>\n",
       "      <td>0.044469</td>\n",
       "      <td>-0.158037</td>\n",
       "      <td>1.246768</td>\n",
       "    </tr>\n",
       "    <tr>\n",
       "      <th>akkan</th>\n",
       "      <td>-1.557248</td>\n",
       "      <td>-0.168020</td>\n",
       "      <td>-0.304353</td>\n",
       "    </tr>\n",
       "    <tr>\n",
       "      <th>elif</th>\n",
       "      <td>-0.319679</td>\n",
       "      <td>0.718855</td>\n",
       "      <td>-2.025288</td>\n",
       "    </tr>\n",
       "  </tbody>\n",
       "</table>\n",
       "</div>"
      ],
      "text/plain": [
       "           maas       yas  calışma saati\n",
       "dilay  0.566996  0.699200       1.405671\n",
       "berin  0.044469 -0.158037       1.246768\n",
       "akkan -1.557248 -0.168020      -0.304353\n",
       "elif  -0.319679  0.718855      -2.025288"
      ]
     },
     "execution_count": 19,
     "metadata": {},
     "output_type": "execute_result"
    }
   ],
   "source": [
    "YeniDataFrame"
   ]
  },
  {
   "cell_type": "code",
   "execution_count": 20,
   "id": "a97e6ea9",
   "metadata": {},
   "outputs": [
    {
     "data": {
      "text/plain": [
       "0.5669963967220291"
      ]
     },
     "execution_count": 20,
     "metadata": {},
     "output_type": "execute_result"
    }
   ],
   "source": [
    "YeniDataFrame.loc[\"dilay\"][\"maas\"]"
   ]
  },
  {
   "cell_type": "code",
   "execution_count": 21,
   "id": "f3d83a7d",
   "metadata": {},
   "outputs": [
    {
     "data": {
      "text/plain": [
       "0.5669963967220291"
      ]
     },
     "execution_count": 21,
     "metadata": {},
     "output_type": "execute_result"
    }
   ],
   "source": [
    "YeniDataFrame.loc[\"dilay\",\"maas\"]"
   ]
  },
  {
   "cell_type": "code",
   "execution_count": 22,
   "id": "bd122d7c",
   "metadata": {},
   "outputs": [
    {
     "data": {
      "text/html": [
       "<div>\n",
       "<style scoped>\n",
       "    .dataframe tbody tr th:only-of-type {\n",
       "        vertical-align: middle;\n",
       "    }\n",
       "\n",
       "    .dataframe tbody tr th {\n",
       "        vertical-align: top;\n",
       "    }\n",
       "\n",
       "    .dataframe thead th {\n",
       "        text-align: right;\n",
       "    }\n",
       "</style>\n",
       "<table border=\"1\" class=\"dataframe\">\n",
       "  <thead>\n",
       "    <tr style=\"text-align: right;\">\n",
       "      <th></th>\n",
       "      <th>maas</th>\n",
       "      <th>yas</th>\n",
       "      <th>calışma saati</th>\n",
       "    </tr>\n",
       "  </thead>\n",
       "  <tbody>\n",
       "    <tr>\n",
       "      <th>dilay</th>\n",
       "      <td>False</td>\n",
       "      <td>False</td>\n",
       "      <td>False</td>\n",
       "    </tr>\n",
       "    <tr>\n",
       "      <th>berin</th>\n",
       "      <td>False</td>\n",
       "      <td>True</td>\n",
       "      <td>False</td>\n",
       "    </tr>\n",
       "    <tr>\n",
       "      <th>akkan</th>\n",
       "      <td>True</td>\n",
       "      <td>True</td>\n",
       "      <td>True</td>\n",
       "    </tr>\n",
       "    <tr>\n",
       "      <th>elif</th>\n",
       "      <td>True</td>\n",
       "      <td>False</td>\n",
       "      <td>True</td>\n",
       "    </tr>\n",
       "  </tbody>\n",
       "</table>\n",
       "</div>"
      ],
      "text/plain": [
       "        maas    yas  calışma saati\n",
       "dilay  False  False          False\n",
       "berin  False   True          False\n",
       "akkan   True   True           True\n",
       "elif    True  False           True"
      ]
     },
     "execution_count": 22,
     "metadata": {},
     "output_type": "execute_result"
    }
   ],
   "source": [
    "YeniDataFrame<0"
   ]
  },
  {
   "cell_type": "code",
   "execution_count": 23,
   "id": "b61c863f",
   "metadata": {},
   "outputs": [],
   "source": [
    "booleanFrame=YeniDataFrame<0"
   ]
  },
  {
   "cell_type": "code",
   "execution_count": 24,
   "id": "091a91b4",
   "metadata": {},
   "outputs": [
    {
     "data": {
      "text/html": [
       "<div>\n",
       "<style scoped>\n",
       "    .dataframe tbody tr th:only-of-type {\n",
       "        vertical-align: middle;\n",
       "    }\n",
       "\n",
       "    .dataframe tbody tr th {\n",
       "        vertical-align: top;\n",
       "    }\n",
       "\n",
       "    .dataframe thead th {\n",
       "        text-align: right;\n",
       "    }\n",
       "</style>\n",
       "<table border=\"1\" class=\"dataframe\">\n",
       "  <thead>\n",
       "    <tr style=\"text-align: right;\">\n",
       "      <th></th>\n",
       "      <th>maas</th>\n",
       "      <th>yas</th>\n",
       "      <th>calışma saati</th>\n",
       "    </tr>\n",
       "  </thead>\n",
       "  <tbody>\n",
       "    <tr>\n",
       "      <th>dilay</th>\n",
       "      <td>False</td>\n",
       "      <td>False</td>\n",
       "      <td>False</td>\n",
       "    </tr>\n",
       "    <tr>\n",
       "      <th>berin</th>\n",
       "      <td>False</td>\n",
       "      <td>True</td>\n",
       "      <td>False</td>\n",
       "    </tr>\n",
       "    <tr>\n",
       "      <th>akkan</th>\n",
       "      <td>True</td>\n",
       "      <td>True</td>\n",
       "      <td>True</td>\n",
       "    </tr>\n",
       "    <tr>\n",
       "      <th>elif</th>\n",
       "      <td>True</td>\n",
       "      <td>False</td>\n",
       "      <td>True</td>\n",
       "    </tr>\n",
       "  </tbody>\n",
       "</table>\n",
       "</div>"
      ],
      "text/plain": [
       "        maas    yas  calışma saati\n",
       "dilay  False  False          False\n",
       "berin  False   True          False\n",
       "akkan   True   True           True\n",
       "elif    True  False           True"
      ]
     },
     "execution_count": 24,
     "metadata": {},
     "output_type": "execute_result"
    }
   ],
   "source": [
    "booleanFrame"
   ]
  },
  {
   "cell_type": "code",
   "execution_count": 25,
   "id": "586d43a4",
   "metadata": {},
   "outputs": [
    {
     "data": {
      "text/html": [
       "<div>\n",
       "<style scoped>\n",
       "    .dataframe tbody tr th:only-of-type {\n",
       "        vertical-align: middle;\n",
       "    }\n",
       "\n",
       "    .dataframe tbody tr th {\n",
       "        vertical-align: top;\n",
       "    }\n",
       "\n",
       "    .dataframe thead th {\n",
       "        text-align: right;\n",
       "    }\n",
       "</style>\n",
       "<table border=\"1\" class=\"dataframe\">\n",
       "  <thead>\n",
       "    <tr style=\"text-align: right;\">\n",
       "      <th></th>\n",
       "      <th>maas</th>\n",
       "      <th>yas</th>\n",
       "      <th>calışma saati</th>\n",
       "    </tr>\n",
       "  </thead>\n",
       "  <tbody>\n",
       "    <tr>\n",
       "      <th>dilay</th>\n",
       "      <td>0.566996</td>\n",
       "      <td>0.699200</td>\n",
       "      <td>1.405671</td>\n",
       "    </tr>\n",
       "    <tr>\n",
       "      <th>berin</th>\n",
       "      <td>0.044469</td>\n",
       "      <td>-0.158037</td>\n",
       "      <td>1.246768</td>\n",
       "    </tr>\n",
       "    <tr>\n",
       "      <th>akkan</th>\n",
       "      <td>-1.557248</td>\n",
       "      <td>-0.168020</td>\n",
       "      <td>-0.304353</td>\n",
       "    </tr>\n",
       "    <tr>\n",
       "      <th>elif</th>\n",
       "      <td>-0.319679</td>\n",
       "      <td>0.718855</td>\n",
       "      <td>-2.025288</td>\n",
       "    </tr>\n",
       "  </tbody>\n",
       "</table>\n",
       "</div>"
      ],
      "text/plain": [
       "           maas       yas  calışma saati\n",
       "dilay  0.566996  0.699200       1.405671\n",
       "berin  0.044469 -0.158037       1.246768\n",
       "akkan -1.557248 -0.168020      -0.304353\n",
       "elif  -0.319679  0.718855      -2.025288"
      ]
     },
     "execution_count": 25,
     "metadata": {},
     "output_type": "execute_result"
    }
   ],
   "source": [
    "YeniDataFrame"
   ]
  },
  {
   "cell_type": "code",
   "execution_count": 26,
   "id": "272971a6",
   "metadata": {},
   "outputs": [
    {
     "data": {
      "text/html": [
       "<div>\n",
       "<style scoped>\n",
       "    .dataframe tbody tr th:only-of-type {\n",
       "        vertical-align: middle;\n",
       "    }\n",
       "\n",
       "    .dataframe tbody tr th {\n",
       "        vertical-align: top;\n",
       "    }\n",
       "\n",
       "    .dataframe thead th {\n",
       "        text-align: right;\n",
       "    }\n",
       "</style>\n",
       "<table border=\"1\" class=\"dataframe\">\n",
       "  <thead>\n",
       "    <tr style=\"text-align: right;\">\n",
       "      <th></th>\n",
       "      <th>maas</th>\n",
       "      <th>yas</th>\n",
       "      <th>calışma saati</th>\n",
       "    </tr>\n",
       "  </thead>\n",
       "  <tbody>\n",
       "    <tr>\n",
       "      <th>dilay</th>\n",
       "      <td>NaN</td>\n",
       "      <td>NaN</td>\n",
       "      <td>NaN</td>\n",
       "    </tr>\n",
       "    <tr>\n",
       "      <th>berin</th>\n",
       "      <td>NaN</td>\n",
       "      <td>-0.158037</td>\n",
       "      <td>NaN</td>\n",
       "    </tr>\n",
       "    <tr>\n",
       "      <th>akkan</th>\n",
       "      <td>-1.557248</td>\n",
       "      <td>-0.168020</td>\n",
       "      <td>-0.304353</td>\n",
       "    </tr>\n",
       "    <tr>\n",
       "      <th>elif</th>\n",
       "      <td>-0.319679</td>\n",
       "      <td>NaN</td>\n",
       "      <td>-2.025288</td>\n",
       "    </tr>\n",
       "  </tbody>\n",
       "</table>\n",
       "</div>"
      ],
      "text/plain": [
       "           maas       yas  calışma saati\n",
       "dilay       NaN       NaN            NaN\n",
       "berin       NaN -0.158037            NaN\n",
       "akkan -1.557248 -0.168020      -0.304353\n",
       "elif  -0.319679       NaN      -2.025288"
      ]
     },
     "execution_count": 26,
     "metadata": {},
     "output_type": "execute_result"
    }
   ],
   "source": [
    "YeniDataFrame[booleanFrame]"
   ]
  },
  {
   "cell_type": "code",
   "execution_count": 27,
   "id": "1b595d05",
   "metadata": {},
   "outputs": [
    {
     "data": {
      "text/html": [
       "<div>\n",
       "<style scoped>\n",
       "    .dataframe tbody tr th:only-of-type {\n",
       "        vertical-align: middle;\n",
       "    }\n",
       "\n",
       "    .dataframe tbody tr th {\n",
       "        vertical-align: top;\n",
       "    }\n",
       "\n",
       "    .dataframe thead th {\n",
       "        text-align: right;\n",
       "    }\n",
       "</style>\n",
       "<table border=\"1\" class=\"dataframe\">\n",
       "  <thead>\n",
       "    <tr style=\"text-align: right;\">\n",
       "      <th></th>\n",
       "      <th>maas</th>\n",
       "      <th>yas</th>\n",
       "      <th>calışma saati</th>\n",
       "    </tr>\n",
       "  </thead>\n",
       "  <tbody>\n",
       "    <tr>\n",
       "      <th>dilay</th>\n",
       "      <td>0.566996</td>\n",
       "      <td>0.699200</td>\n",
       "      <td>1.405671</td>\n",
       "    </tr>\n",
       "    <tr>\n",
       "      <th>elif</th>\n",
       "      <td>-0.319679</td>\n",
       "      <td>0.718855</td>\n",
       "      <td>-2.025288</td>\n",
       "    </tr>\n",
       "  </tbody>\n",
       "</table>\n",
       "</div>"
      ],
      "text/plain": [
       "           maas       yas  calışma saati\n",
       "dilay  0.566996  0.699200       1.405671\n",
       "elif  -0.319679  0.718855      -2.025288"
      ]
     },
     "execution_count": 27,
     "metadata": {},
     "output_type": "execute_result"
    }
   ],
   "source": [
    "YeniDataFrame[YeniDataFrame[\"yas\"]>0]"
   ]
  },
  {
   "cell_type": "code",
   "execution_count": 28,
   "id": "fb722223",
   "metadata": {},
   "outputs": [
    {
     "data": {
      "text/html": [
       "<div>\n",
       "<style scoped>\n",
       "    .dataframe tbody tr th:only-of-type {\n",
       "        vertical-align: middle;\n",
       "    }\n",
       "\n",
       "    .dataframe tbody tr th {\n",
       "        vertical-align: top;\n",
       "    }\n",
       "\n",
       "    .dataframe thead th {\n",
       "        text-align: right;\n",
       "    }\n",
       "</style>\n",
       "<table border=\"1\" class=\"dataframe\">\n",
       "  <thead>\n",
       "    <tr style=\"text-align: right;\">\n",
       "      <th></th>\n",
       "      <th>maas</th>\n",
       "      <th>yas</th>\n",
       "      <th>calışma saati</th>\n",
       "    </tr>\n",
       "  </thead>\n",
       "  <tbody>\n",
       "    <tr>\n",
       "      <th>dilay</th>\n",
       "      <td>0.566996</td>\n",
       "      <td>0.699200</td>\n",
       "      <td>1.405671</td>\n",
       "    </tr>\n",
       "    <tr>\n",
       "      <th>berin</th>\n",
       "      <td>0.044469</td>\n",
       "      <td>-0.158037</td>\n",
       "      <td>1.246768</td>\n",
       "    </tr>\n",
       "    <tr>\n",
       "      <th>akkan</th>\n",
       "      <td>-1.557248</td>\n",
       "      <td>-0.168020</td>\n",
       "      <td>-0.304353</td>\n",
       "    </tr>\n",
       "    <tr>\n",
       "      <th>elif</th>\n",
       "      <td>-0.319679</td>\n",
       "      <td>0.718855</td>\n",
       "      <td>-2.025288</td>\n",
       "    </tr>\n",
       "  </tbody>\n",
       "</table>\n",
       "</div>"
      ],
      "text/plain": [
       "           maas       yas  calışma saati\n",
       "dilay  0.566996  0.699200       1.405671\n",
       "berin  0.044469 -0.158037       1.246768\n",
       "akkan -1.557248 -0.168020      -0.304353\n",
       "elif  -0.319679  0.718855      -2.025288"
      ]
     },
     "execution_count": 28,
     "metadata": {},
     "output_type": "execute_result"
    }
   ],
   "source": [
    "YeniDataFrame"
   ]
  },
  {
   "cell_type": "code",
   "execution_count": 29,
   "id": "24c0434a",
   "metadata": {},
   "outputs": [
    {
     "data": {
      "text/html": [
       "<div>\n",
       "<style scoped>\n",
       "    .dataframe tbody tr th:only-of-type {\n",
       "        vertical-align: middle;\n",
       "    }\n",
       "\n",
       "    .dataframe tbody tr th {\n",
       "        vertical-align: top;\n",
       "    }\n",
       "\n",
       "    .dataframe thead th {\n",
       "        text-align: right;\n",
       "    }\n",
       "</style>\n",
       "<table border=\"1\" class=\"dataframe\">\n",
       "  <thead>\n",
       "    <tr style=\"text-align: right;\">\n",
       "      <th></th>\n",
       "      <th>index</th>\n",
       "      <th>maas</th>\n",
       "      <th>yas</th>\n",
       "      <th>calışma saati</th>\n",
       "    </tr>\n",
       "  </thead>\n",
       "  <tbody>\n",
       "    <tr>\n",
       "      <th>0</th>\n",
       "      <td>dilay</td>\n",
       "      <td>0.566996</td>\n",
       "      <td>0.699200</td>\n",
       "      <td>1.405671</td>\n",
       "    </tr>\n",
       "    <tr>\n",
       "      <th>1</th>\n",
       "      <td>berin</td>\n",
       "      <td>0.044469</td>\n",
       "      <td>-0.158037</td>\n",
       "      <td>1.246768</td>\n",
       "    </tr>\n",
       "    <tr>\n",
       "      <th>2</th>\n",
       "      <td>akkan</td>\n",
       "      <td>-1.557248</td>\n",
       "      <td>-0.168020</td>\n",
       "      <td>-0.304353</td>\n",
       "    </tr>\n",
       "    <tr>\n",
       "      <th>3</th>\n",
       "      <td>elif</td>\n",
       "      <td>-0.319679</td>\n",
       "      <td>0.718855</td>\n",
       "      <td>-2.025288</td>\n",
       "    </tr>\n",
       "  </tbody>\n",
       "</table>\n",
       "</div>"
      ],
      "text/plain": [
       "   index      maas       yas  calışma saati\n",
       "0  dilay  0.566996  0.699200       1.405671\n",
       "1  berin  0.044469 -0.158037       1.246768\n",
       "2  akkan -1.557248 -0.168020      -0.304353\n",
       "3   elif -0.319679  0.718855      -2.025288"
      ]
     },
     "execution_count": 29,
     "metadata": {},
     "output_type": "execute_result"
    }
   ],
   "source": [
    "YeniDataFrame.reset_index()"
   ]
  },
  {
   "cell_type": "code",
   "execution_count": 30,
   "id": "fe609121",
   "metadata": {},
   "outputs": [
    {
     "data": {
      "text/html": [
       "<div>\n",
       "<style scoped>\n",
       "    .dataframe tbody tr th:only-of-type {\n",
       "        vertical-align: middle;\n",
       "    }\n",
       "\n",
       "    .dataframe tbody tr th {\n",
       "        vertical-align: top;\n",
       "    }\n",
       "\n",
       "    .dataframe thead th {\n",
       "        text-align: right;\n",
       "    }\n",
       "</style>\n",
       "<table border=\"1\" class=\"dataframe\">\n",
       "  <thead>\n",
       "    <tr style=\"text-align: right;\">\n",
       "      <th></th>\n",
       "      <th>maas</th>\n",
       "      <th>yas</th>\n",
       "      <th>calışma saati</th>\n",
       "    </tr>\n",
       "  </thead>\n",
       "  <tbody>\n",
       "    <tr>\n",
       "      <th>dilay</th>\n",
       "      <td>0.566996</td>\n",
       "      <td>0.699200</td>\n",
       "      <td>1.405671</td>\n",
       "    </tr>\n",
       "    <tr>\n",
       "      <th>berin</th>\n",
       "      <td>0.044469</td>\n",
       "      <td>-0.158037</td>\n",
       "      <td>1.246768</td>\n",
       "    </tr>\n",
       "    <tr>\n",
       "      <th>akkan</th>\n",
       "      <td>-1.557248</td>\n",
       "      <td>-0.168020</td>\n",
       "      <td>-0.304353</td>\n",
       "    </tr>\n",
       "    <tr>\n",
       "      <th>elif</th>\n",
       "      <td>-0.319679</td>\n",
       "      <td>0.718855</td>\n",
       "      <td>-2.025288</td>\n",
       "    </tr>\n",
       "  </tbody>\n",
       "</table>\n",
       "</div>"
      ],
      "text/plain": [
       "           maas       yas  calışma saati\n",
       "dilay  0.566996  0.699200       1.405671\n",
       "berin  0.044469 -0.158037       1.246768\n",
       "akkan -1.557248 -0.168020      -0.304353\n",
       "elif  -0.319679  0.718855      -2.025288"
      ]
     },
     "execution_count": 30,
     "metadata": {},
     "output_type": "execute_result"
    }
   ],
   "source": [
    "YeniDataFrame"
   ]
  },
  {
   "cell_type": "code",
   "execution_count": 31,
   "id": "5eca930a",
   "metadata": {},
   "outputs": [],
   "source": [
    "yeniIndexListesi=[\"dil\",\"ber\",\"akk\",\"eli\"]"
   ]
  },
  {
   "cell_type": "code",
   "execution_count": 32,
   "id": "9357491c",
   "metadata": {},
   "outputs": [],
   "source": [
    "YeniDataFrame[\"yeni index\"]=yeniIndexListesi"
   ]
  },
  {
   "cell_type": "code",
   "execution_count": 33,
   "id": "1af6024f",
   "metadata": {},
   "outputs": [
    {
     "data": {
      "text/html": [
       "<div>\n",
       "<style scoped>\n",
       "    .dataframe tbody tr th:only-of-type {\n",
       "        vertical-align: middle;\n",
       "    }\n",
       "\n",
       "    .dataframe tbody tr th {\n",
       "        vertical-align: top;\n",
       "    }\n",
       "\n",
       "    .dataframe thead th {\n",
       "        text-align: right;\n",
       "    }\n",
       "</style>\n",
       "<table border=\"1\" class=\"dataframe\">\n",
       "  <thead>\n",
       "    <tr style=\"text-align: right;\">\n",
       "      <th></th>\n",
       "      <th>maas</th>\n",
       "      <th>yas</th>\n",
       "      <th>calışma saati</th>\n",
       "      <th>yeni index</th>\n",
       "    </tr>\n",
       "  </thead>\n",
       "  <tbody>\n",
       "    <tr>\n",
       "      <th>dilay</th>\n",
       "      <td>0.566996</td>\n",
       "      <td>0.699200</td>\n",
       "      <td>1.405671</td>\n",
       "      <td>dil</td>\n",
       "    </tr>\n",
       "    <tr>\n",
       "      <th>berin</th>\n",
       "      <td>0.044469</td>\n",
       "      <td>-0.158037</td>\n",
       "      <td>1.246768</td>\n",
       "      <td>ber</td>\n",
       "    </tr>\n",
       "    <tr>\n",
       "      <th>akkan</th>\n",
       "      <td>-1.557248</td>\n",
       "      <td>-0.168020</td>\n",
       "      <td>-0.304353</td>\n",
       "      <td>akk</td>\n",
       "    </tr>\n",
       "    <tr>\n",
       "      <th>elif</th>\n",
       "      <td>-0.319679</td>\n",
       "      <td>0.718855</td>\n",
       "      <td>-2.025288</td>\n",
       "      <td>eli</td>\n",
       "    </tr>\n",
       "  </tbody>\n",
       "</table>\n",
       "</div>"
      ],
      "text/plain": [
       "           maas       yas  calışma saati yeni index\n",
       "dilay  0.566996  0.699200       1.405671        dil\n",
       "berin  0.044469 -0.158037       1.246768        ber\n",
       "akkan -1.557248 -0.168020      -0.304353        akk\n",
       "elif  -0.319679  0.718855      -2.025288        eli"
      ]
     },
     "execution_count": 33,
     "metadata": {},
     "output_type": "execute_result"
    }
   ],
   "source": [
    "YeniDataFrame"
   ]
  },
  {
   "cell_type": "code",
   "execution_count": 34,
   "id": "a92ae385",
   "metadata": {},
   "outputs": [
    {
     "data": {
      "text/html": [
       "<div>\n",
       "<style scoped>\n",
       "    .dataframe tbody tr th:only-of-type {\n",
       "        vertical-align: middle;\n",
       "    }\n",
       "\n",
       "    .dataframe tbody tr th {\n",
       "        vertical-align: top;\n",
       "    }\n",
       "\n",
       "    .dataframe thead th {\n",
       "        text-align: right;\n",
       "    }\n",
       "</style>\n",
       "<table border=\"1\" class=\"dataframe\">\n",
       "  <thead>\n",
       "    <tr style=\"text-align: right;\">\n",
       "      <th></th>\n",
       "      <th>maas</th>\n",
       "      <th>yas</th>\n",
       "      <th>calışma saati</th>\n",
       "    </tr>\n",
       "    <tr>\n",
       "      <th>yeni index</th>\n",
       "      <th></th>\n",
       "      <th></th>\n",
       "      <th></th>\n",
       "    </tr>\n",
       "  </thead>\n",
       "  <tbody>\n",
       "    <tr>\n",
       "      <th>dil</th>\n",
       "      <td>0.566996</td>\n",
       "      <td>0.699200</td>\n",
       "      <td>1.405671</td>\n",
       "    </tr>\n",
       "    <tr>\n",
       "      <th>ber</th>\n",
       "      <td>0.044469</td>\n",
       "      <td>-0.158037</td>\n",
       "      <td>1.246768</td>\n",
       "    </tr>\n",
       "    <tr>\n",
       "      <th>akk</th>\n",
       "      <td>-1.557248</td>\n",
       "      <td>-0.168020</td>\n",
       "      <td>-0.304353</td>\n",
       "    </tr>\n",
       "    <tr>\n",
       "      <th>eli</th>\n",
       "      <td>-0.319679</td>\n",
       "      <td>0.718855</td>\n",
       "      <td>-2.025288</td>\n",
       "    </tr>\n",
       "  </tbody>\n",
       "</table>\n",
       "</div>"
      ],
      "text/plain": [
       "                maas       yas  calışma saati\n",
       "yeni index                                   \n",
       "dil         0.566996  0.699200       1.405671\n",
       "ber         0.044469 -0.158037       1.246768\n",
       "akk        -1.557248 -0.168020      -0.304353\n",
       "eli        -0.319679  0.718855      -2.025288"
      ]
     },
     "execution_count": 34,
     "metadata": {},
     "output_type": "execute_result"
    }
   ],
   "source": [
    "YeniDataFrame.set_index(\"yeni index\")"
   ]
  },
  {
   "cell_type": "code",
   "execution_count": 35,
   "id": "485e9494",
   "metadata": {},
   "outputs": [
    {
     "data": {
      "text/html": [
       "<div>\n",
       "<style scoped>\n",
       "    .dataframe tbody tr th:only-of-type {\n",
       "        vertical-align: middle;\n",
       "    }\n",
       "\n",
       "    .dataframe tbody tr th {\n",
       "        vertical-align: top;\n",
       "    }\n",
       "\n",
       "    .dataframe thead th {\n",
       "        text-align: right;\n",
       "    }\n",
       "</style>\n",
       "<table border=\"1\" class=\"dataframe\">\n",
       "  <thead>\n",
       "    <tr style=\"text-align: right;\">\n",
       "      <th></th>\n",
       "      <th>maas</th>\n",
       "      <th>yas</th>\n",
       "      <th>calışma saati</th>\n",
       "      <th>yeni index</th>\n",
       "    </tr>\n",
       "  </thead>\n",
       "  <tbody>\n",
       "    <tr>\n",
       "      <th>dilay</th>\n",
       "      <td>0.566996</td>\n",
       "      <td>0.699200</td>\n",
       "      <td>1.405671</td>\n",
       "      <td>dil</td>\n",
       "    </tr>\n",
       "    <tr>\n",
       "      <th>berin</th>\n",
       "      <td>0.044469</td>\n",
       "      <td>-0.158037</td>\n",
       "      <td>1.246768</td>\n",
       "      <td>ber</td>\n",
       "    </tr>\n",
       "    <tr>\n",
       "      <th>akkan</th>\n",
       "      <td>-1.557248</td>\n",
       "      <td>-0.168020</td>\n",
       "      <td>-0.304353</td>\n",
       "      <td>akk</td>\n",
       "    </tr>\n",
       "    <tr>\n",
       "      <th>elif</th>\n",
       "      <td>-0.319679</td>\n",
       "      <td>0.718855</td>\n",
       "      <td>-2.025288</td>\n",
       "      <td>eli</td>\n",
       "    </tr>\n",
       "  </tbody>\n",
       "</table>\n",
       "</div>"
      ],
      "text/plain": [
       "           maas       yas  calışma saati yeni index\n",
       "dilay  0.566996  0.699200       1.405671        dil\n",
       "berin  0.044469 -0.158037       1.246768        ber\n",
       "akkan -1.557248 -0.168020      -0.304353        akk\n",
       "elif  -0.319679  0.718855      -2.025288        eli"
      ]
     },
     "execution_count": 35,
     "metadata": {},
     "output_type": "execute_result"
    }
   ],
   "source": [
    "YeniDataFrame"
   ]
  },
  {
   "cell_type": "code",
   "execution_count": 36,
   "id": "44054a01",
   "metadata": {},
   "outputs": [],
   "source": [
    "YeniDataFrame.set_index(\"yeni index\",inplace=True)"
   ]
  },
  {
   "cell_type": "code",
   "execution_count": 37,
   "id": "cc5757b9",
   "metadata": {},
   "outputs": [
    {
     "data": {
      "text/html": [
       "<div>\n",
       "<style scoped>\n",
       "    .dataframe tbody tr th:only-of-type {\n",
       "        vertical-align: middle;\n",
       "    }\n",
       "\n",
       "    .dataframe tbody tr th {\n",
       "        vertical-align: top;\n",
       "    }\n",
       "\n",
       "    .dataframe thead th {\n",
       "        text-align: right;\n",
       "    }\n",
       "</style>\n",
       "<table border=\"1\" class=\"dataframe\">\n",
       "  <thead>\n",
       "    <tr style=\"text-align: right;\">\n",
       "      <th></th>\n",
       "      <th>maas</th>\n",
       "      <th>yas</th>\n",
       "      <th>calışma saati</th>\n",
       "    </tr>\n",
       "    <tr>\n",
       "      <th>yeni index</th>\n",
       "      <th></th>\n",
       "      <th></th>\n",
       "      <th></th>\n",
       "    </tr>\n",
       "  </thead>\n",
       "  <tbody>\n",
       "    <tr>\n",
       "      <th>dil</th>\n",
       "      <td>0.566996</td>\n",
       "      <td>0.699200</td>\n",
       "      <td>1.405671</td>\n",
       "    </tr>\n",
       "    <tr>\n",
       "      <th>ber</th>\n",
       "      <td>0.044469</td>\n",
       "      <td>-0.158037</td>\n",
       "      <td>1.246768</td>\n",
       "    </tr>\n",
       "    <tr>\n",
       "      <th>akk</th>\n",
       "      <td>-1.557248</td>\n",
       "      <td>-0.168020</td>\n",
       "      <td>-0.304353</td>\n",
       "    </tr>\n",
       "    <tr>\n",
       "      <th>eli</th>\n",
       "      <td>-0.319679</td>\n",
       "      <td>0.718855</td>\n",
       "      <td>-2.025288</td>\n",
       "    </tr>\n",
       "  </tbody>\n",
       "</table>\n",
       "</div>"
      ],
      "text/plain": [
       "                maas       yas  calışma saati\n",
       "yeni index                                   \n",
       "dil         0.566996  0.699200       1.405671\n",
       "ber         0.044469 -0.158037       1.246768\n",
       "akk        -1.557248 -0.168020      -0.304353\n",
       "eli        -0.319679  0.718855      -2.025288"
      ]
     },
     "execution_count": 37,
     "metadata": {},
     "output_type": "execute_result"
    }
   ],
   "source": [
    "YeniDataFrame"
   ]
  },
  {
   "cell_type": "code",
   "execution_count": 38,
   "id": "69a64790",
   "metadata": {},
   "outputs": [
    {
     "data": {
      "text/plain": [
       "maas             0.566996\n",
       "yas              0.699200\n",
       "calışma saati    1.405671\n",
       "Name: dil, dtype: float64"
      ]
     },
     "execution_count": 38,
     "metadata": {},
     "output_type": "execute_result"
    }
   ],
   "source": [
    "YeniDataFrame.loc[\"dil\"]"
   ]
  },
  {
   "cell_type": "markdown",
   "id": "69a1a64a",
   "metadata": {},
   "source": [
    "### Multi index"
   ]
  },
  {
   "cell_type": "code",
   "execution_count": 39,
   "id": "eeb39188",
   "metadata": {},
   "outputs": [],
   "source": [
    "ilkIndexler=[\"simpson\",\"simpson\",\"simpson\",\"south park\",\"south park\",\"south park\"]"
   ]
  },
  {
   "cell_type": "code",
   "execution_count": 40,
   "id": "9f2244a4",
   "metadata": {},
   "outputs": [],
   "source": [
    "icIndexler=[\"homer\",\"bart\",\"marge\",\"cartman\",\"kenny\",\"kyle\"]"
   ]
  },
  {
   "cell_type": "code",
   "execution_count": 41,
   "id": "735b1236",
   "metadata": {},
   "outputs": [],
   "source": [
    "birlesmisIndex=list(zip(ilkIndexler,icIndexler))"
   ]
  },
  {
   "cell_type": "code",
   "execution_count": 42,
   "id": "9e2c618a",
   "metadata": {},
   "outputs": [
    {
     "data": {
      "text/plain": [
       "[('simpson', 'homer'),\n",
       " ('simpson', 'bart'),\n",
       " ('simpson', 'marge'),\n",
       " ('south park', 'cartman'),\n",
       " ('south park', 'kenny'),\n",
       " ('south park', 'kyle')]"
      ]
     },
     "execution_count": 42,
     "metadata": {},
     "output_type": "execute_result"
    }
   ],
   "source": [
    "birlesmisIndex"
   ]
  },
  {
   "cell_type": "code",
   "execution_count": 43,
   "id": "991c9b75",
   "metadata": {},
   "outputs": [],
   "source": [
    "birlesmisIndex=pd.MultiIndex.from_tuples(birlesmisIndex)\n"
   ]
  },
  {
   "cell_type": "code",
   "execution_count": 44,
   "id": "5ae68bbe",
   "metadata": {},
   "outputs": [
    {
     "data": {
      "text/plain": [
       "MultiIndex([(   'simpson',   'homer'),\n",
       "            (   'simpson',    'bart'),\n",
       "            (   'simpson',   'marge'),\n",
       "            ('south park', 'cartman'),\n",
       "            ('south park',   'kenny'),\n",
       "            ('south park',    'kyle')],\n",
       "           )"
      ]
     },
     "execution_count": 44,
     "metadata": {},
     "output_type": "execute_result"
    }
   ],
   "source": [
    "birlesmisIndex"
   ]
  },
  {
   "cell_type": "code",
   "execution_count": 45,
   "id": "7c587d8b",
   "metadata": {},
   "outputs": [],
   "source": [
    "benimCizgiFilmListem=[[40,\"a\"],[10,\"b\"],[30,\"c\"],[9,\"d\"],[10,\"e\"],[11,\"f\"]]"
   ]
  },
  {
   "cell_type": "code",
   "execution_count": 46,
   "id": "082bf3fe",
   "metadata": {},
   "outputs": [],
   "source": [
    "cizgiFilmNumpyDizisi=np.array(benimCizgiFilmListem)"
   ]
  },
  {
   "cell_type": "code",
   "execution_count": 47,
   "id": "717042b5",
   "metadata": {},
   "outputs": [],
   "source": [
    "cizgiFilmDataFrame=pd.DataFrame(cizgiFilmNumpyDizisi,index=birlesmisIndex,columns=[\"yas\",\"meslek\"])"
   ]
  },
  {
   "cell_type": "code",
   "execution_count": 48,
   "id": "ef023a46",
   "metadata": {},
   "outputs": [
    {
     "data": {
      "text/html": [
       "<div>\n",
       "<style scoped>\n",
       "    .dataframe tbody tr th:only-of-type {\n",
       "        vertical-align: middle;\n",
       "    }\n",
       "\n",
       "    .dataframe tbody tr th {\n",
       "        vertical-align: top;\n",
       "    }\n",
       "\n",
       "    .dataframe thead th {\n",
       "        text-align: right;\n",
       "    }\n",
       "</style>\n",
       "<table border=\"1\" class=\"dataframe\">\n",
       "  <thead>\n",
       "    <tr style=\"text-align: right;\">\n",
       "      <th></th>\n",
       "      <th></th>\n",
       "      <th>yas</th>\n",
       "      <th>meslek</th>\n",
       "    </tr>\n",
       "  </thead>\n",
       "  <tbody>\n",
       "    <tr>\n",
       "      <th rowspan=\"3\" valign=\"top\">simpson</th>\n",
       "      <th>homer</th>\n",
       "      <td>40</td>\n",
       "      <td>a</td>\n",
       "    </tr>\n",
       "    <tr>\n",
       "      <th>bart</th>\n",
       "      <td>10</td>\n",
       "      <td>b</td>\n",
       "    </tr>\n",
       "    <tr>\n",
       "      <th>marge</th>\n",
       "      <td>30</td>\n",
       "      <td>c</td>\n",
       "    </tr>\n",
       "    <tr>\n",
       "      <th rowspan=\"3\" valign=\"top\">south park</th>\n",
       "      <th>cartman</th>\n",
       "      <td>9</td>\n",
       "      <td>d</td>\n",
       "    </tr>\n",
       "    <tr>\n",
       "      <th>kenny</th>\n",
       "      <td>10</td>\n",
       "      <td>e</td>\n",
       "    </tr>\n",
       "    <tr>\n",
       "      <th>kyle</th>\n",
       "      <td>11</td>\n",
       "      <td>f</td>\n",
       "    </tr>\n",
       "  </tbody>\n",
       "</table>\n",
       "</div>"
      ],
      "text/plain": [
       "                   yas meslek\n",
       "simpson    homer    40      a\n",
       "           bart     10      b\n",
       "           marge    30      c\n",
       "south park cartman   9      d\n",
       "           kenny    10      e\n",
       "           kyle     11      f"
      ]
     },
     "execution_count": 48,
     "metadata": {},
     "output_type": "execute_result"
    }
   ],
   "source": [
    "cizgiFilmDataFrame"
   ]
  },
  {
   "cell_type": "code",
   "execution_count": 49,
   "id": "ecb5510c",
   "metadata": {},
   "outputs": [
    {
     "data": {
      "text/html": [
       "<div>\n",
       "<style scoped>\n",
       "    .dataframe tbody tr th:only-of-type {\n",
       "        vertical-align: middle;\n",
       "    }\n",
       "\n",
       "    .dataframe tbody tr th {\n",
       "        vertical-align: top;\n",
       "    }\n",
       "\n",
       "    .dataframe thead th {\n",
       "        text-align: right;\n",
       "    }\n",
       "</style>\n",
       "<table border=\"1\" class=\"dataframe\">\n",
       "  <thead>\n",
       "    <tr style=\"text-align: right;\">\n",
       "      <th></th>\n",
       "      <th>yas</th>\n",
       "      <th>meslek</th>\n",
       "    </tr>\n",
       "  </thead>\n",
       "  <tbody>\n",
       "    <tr>\n",
       "      <th>homer</th>\n",
       "      <td>40</td>\n",
       "      <td>a</td>\n",
       "    </tr>\n",
       "    <tr>\n",
       "      <th>bart</th>\n",
       "      <td>10</td>\n",
       "      <td>b</td>\n",
       "    </tr>\n",
       "    <tr>\n",
       "      <th>marge</th>\n",
       "      <td>30</td>\n",
       "      <td>c</td>\n",
       "    </tr>\n",
       "  </tbody>\n",
       "</table>\n",
       "</div>"
      ],
      "text/plain": [
       "      yas meslek\n",
       "homer  40      a\n",
       "bart   10      b\n",
       "marge  30      c"
      ]
     },
     "execution_count": 49,
     "metadata": {},
     "output_type": "execute_result"
    }
   ],
   "source": [
    "cizgiFilmDataFrame.loc[\"simpson\"]"
   ]
  },
  {
   "cell_type": "code",
   "execution_count": 50,
   "id": "9321bc9b",
   "metadata": {},
   "outputs": [
    {
     "data": {
      "text/plain": [
       "yas       10\n",
       "meslek     e\n",
       "Name: kenny, dtype: object"
      ]
     },
     "execution_count": 50,
     "metadata": {},
     "output_type": "execute_result"
    }
   ],
   "source": [
    "cizgiFilmDataFrame.loc[\"south park\"].loc[\"kenny\"]"
   ]
  },
  {
   "cell_type": "code",
   "execution_count": 51,
   "id": "5f09682e",
   "metadata": {},
   "outputs": [],
   "source": [
    "cizgiFilmDataFrame.index.names=[\"film adı\",\"isim\"]"
   ]
  },
  {
   "cell_type": "code",
   "execution_count": 52,
   "id": "c13839cb",
   "metadata": {},
   "outputs": [
    {
     "data": {
      "text/html": [
       "<div>\n",
       "<style scoped>\n",
       "    .dataframe tbody tr th:only-of-type {\n",
       "        vertical-align: middle;\n",
       "    }\n",
       "\n",
       "    .dataframe tbody tr th {\n",
       "        vertical-align: top;\n",
       "    }\n",
       "\n",
       "    .dataframe thead th {\n",
       "        text-align: right;\n",
       "    }\n",
       "</style>\n",
       "<table border=\"1\" class=\"dataframe\">\n",
       "  <thead>\n",
       "    <tr style=\"text-align: right;\">\n",
       "      <th></th>\n",
       "      <th></th>\n",
       "      <th>yas</th>\n",
       "      <th>meslek</th>\n",
       "    </tr>\n",
       "    <tr>\n",
       "      <th>film adı</th>\n",
       "      <th>isim</th>\n",
       "      <th></th>\n",
       "      <th></th>\n",
       "    </tr>\n",
       "  </thead>\n",
       "  <tbody>\n",
       "    <tr>\n",
       "      <th rowspan=\"3\" valign=\"top\">simpson</th>\n",
       "      <th>homer</th>\n",
       "      <td>40</td>\n",
       "      <td>a</td>\n",
       "    </tr>\n",
       "    <tr>\n",
       "      <th>bart</th>\n",
       "      <td>10</td>\n",
       "      <td>b</td>\n",
       "    </tr>\n",
       "    <tr>\n",
       "      <th>marge</th>\n",
       "      <td>30</td>\n",
       "      <td>c</td>\n",
       "    </tr>\n",
       "    <tr>\n",
       "      <th rowspan=\"3\" valign=\"top\">south park</th>\n",
       "      <th>cartman</th>\n",
       "      <td>9</td>\n",
       "      <td>d</td>\n",
       "    </tr>\n",
       "    <tr>\n",
       "      <th>kenny</th>\n",
       "      <td>10</td>\n",
       "      <td>e</td>\n",
       "    </tr>\n",
       "    <tr>\n",
       "      <th>kyle</th>\n",
       "      <td>11</td>\n",
       "      <td>f</td>\n",
       "    </tr>\n",
       "  </tbody>\n",
       "</table>\n",
       "</div>"
      ],
      "text/plain": [
       "                   yas meslek\n",
       "film adı   isim              \n",
       "simpson    homer    40      a\n",
       "           bart     10      b\n",
       "           marge    30      c\n",
       "south park cartman   9      d\n",
       "           kenny    10      e\n",
       "           kyle     11      f"
      ]
     },
     "execution_count": 52,
     "metadata": {},
     "output_type": "execute_result"
    }
   ],
   "source": [
    "cizgiFilmDataFrame"
   ]
  },
  {
   "cell_type": "code",
   "execution_count": null,
   "id": "c1416508",
   "metadata": {},
   "outputs": [],
   "source": []
  }
 ],
 "metadata": {
  "kernelspec": {
   "display_name": "Python 3 (ipykernel)",
   "language": "python",
   "name": "python3"
  },
  "language_info": {
   "codemirror_mode": {
    "name": "ipython",
    "version": 3
   },
   "file_extension": ".py",
   "mimetype": "text/x-python",
   "name": "python",
   "nbconvert_exporter": "python",
   "pygments_lexer": "ipython3",
   "version": "3.10.9"
  }
 },
 "nbformat": 4,
 "nbformat_minor": 5
}
